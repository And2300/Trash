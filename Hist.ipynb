{
  "nbformat": 4,
  "nbformat_minor": 0,
  "metadata": {
    "colab": {
      "provenance": [],
      "authorship_tag": "ABX9TyOQ5voSVJQHeYnGEm2WGWEH",
      "include_colab_link": true
    },
    "kernelspec": {
      "name": "python3",
      "display_name": "Python 3"
    },
    "language_info": {
      "name": "python"
    }
  },
  "cells": [
    {
      "cell_type": "markdown",
      "metadata": {
        "id": "view-in-github",
        "colab_type": "text"
      },
      "source": [
        "<a href=\"https://colab.research.google.com/github/And2300/Trash/blob/main/Hist.ipynb\" target=\"_parent\"><img src=\"https://colab.research.google.com/assets/colab-badge.svg\" alt=\"Open In Colab\"/></a>"
      ]
    },
    {
      "cell_type": "code",
      "execution_count": 2,
      "metadata": {
        "id": "t9ut8mIa8fwA"
      },
      "outputs": [],
      "source": [
        "import numpy as np\n",
        "import matplotlib.pyplot as plt\n",
        "import pandas as pd\n",
        "import seaborn as sns"
      ]
    },
    {
      "cell_type": "code",
      "source": [
        "def outliersx(lista,alpha):\n",
        "  data = np.array(lista)#np.random.normal(0, 1, 1000).round(4)\n",
        "\n",
        "  mean = np.mean(data)\n",
        "  std = np.std(data)\n",
        "\n",
        "  lower_bound = mean - alpha * std\n",
        "  upper_bound = mean + alpha * std\n",
        "\n",
        "  # Detectar outliers\n",
        "  outliers = [x for x in data if x < lower_bound or x > upper_bound]\n",
        "\n",
        "  # Data sin outliers\n",
        "  data_without_outliers = [x for x in data if lower_bound <= x <= upper_bound]\n",
        "\n",
        "  # Imprimir los outliers detectados y la data sin outliers\n",
        "  print('Los outliers detectados son:', outliers)\n",
        "  print('La data sin outliers es:', data_without_outliers)\n",
        "  return data_without_outliers"
      ],
      "metadata": {
        "id": "bwSu-3Zj8mXB"
      },
      "execution_count": 3,
      "outputs": []
    },
    {
      "cell_type": "code",
      "source": [
        "def dif_lis(lista1,lista2):\n",
        "  dlis = list(map(lambda x,y: x-y ,lista1,lista2))\n",
        "  dmean = round(np.array(dlis).mean(),4)\n",
        "  dstd = round(np.array(dlis).std(),4)\n",
        "  return dlis, dmean , dstd"
      ],
      "metadata": {
        "id": "hxIelYjQz2PQ"
      },
      "execution_count": 5,
      "outputs": []
    },
    {
      "cell_type": "markdown",
      "source": [
        "# Punto resina con pilares D6"
      ],
      "metadata": {
        "id": "TKwf_L2WyU_M"
      }
    },
    {
      "cell_type": "code",
      "source": [
        "secoV   = [1.9564,1.9575,1.9562,1.9574,1.9569,1.9571,1.9591,1.9567,1.9575,1.9591]\n",
        "mojadoV = [1.9617,1.9687,1.9610,1.9627,1.9616,1.9625,1.9629,1.9624,1.9634,1.9635]\n",
        "dlisV, dmeanV , dstdV = dif_lis(mojadoV,secoV)\n",
        "axis='D6'\n",
        "\n",
        "secoM   = []\n",
        "mojadoM = []\n",
        "#dlisM, dmeanM , dstdM = dif_lis(mojadoM,secoM)"
      ],
      "metadata": {
        "id": "xd46t8LNyZGg"
      },
      "execution_count": 7,
      "outputs": []
    },
    {
      "cell_type": "code",
      "source": [
        "plt.errorbar(axis,dmeanV,yerr=dstdV, fmt='*', capsize=10)\n",
        "#plt.errorbar(axis,dmeanM,yerr=dstdM, fmt='o', capsize=10)"
      ],
      "metadata": {
        "colab": {
          "base_uri": "https://localhost:8080/",
          "height": 282
        },
        "id": "GR5KRwiizm8q",
        "outputId": "b7667dfc-2cf8-4acc-da5b-2399dd71d216"
      },
      "execution_count": 10,
      "outputs": [
        {
          "output_type": "execute_result",
          "data": {
            "text/plain": [
              "<ErrorbarContainer object of 3 artists>"
            ]
          },
          "metadata": {},
          "execution_count": 10
        },
        {
          "output_type": "display_data",
          "data": {
            "text/plain": [
              "<Figure size 432x288 with 1 Axes>"
            ],
            "image/png": "[encoded data removed]"
          },
          "metadata": {
            "needs_background": "light"
          }
        }
      ]
    },
    {
      "cell_type": "markdown",
      "source": [
        "# Diso D6"
      ],
      "metadata": {
        "id": "STvbgv6Ln8_I"
      }
    },
    {
      "cell_type": "code",
      "source": [
        "#Datos del disco mojado D6\n",
        "lista1 = [2.0893,2.0856,2.0892,2.0876,2.0869,2.0852,2.0871,2.0834,2.0846,2.0844,\n",
        "          2.0880,2.0867,2.0882,2.0858,2.0845,2.0862,2.0883,2.0876,2.0933,2.0865,\n",
        "          2.0836,2.0884,2.0828,2.0852,2.0837,2.0863,2.0871,2.0862,2.0861]\n",
        "\n",
        "#Datos del disco seco D6\n",
        "lista2 = [2.0801,2.0793,2.0774,2.0784,2.0773,2.0770,2.0775,2.0758,2.0778,2.0769,\n",
        "          2.0791,2.0770,2.0787,2.0774,2.0771,2.0794,2.0783,2.0794,2.0778,2.0772,\n",
        "          2.0761,2.0760,2.0739,2.0789,2.0775,2.0794,2.0794,2.0783,2.0789]"
      ],
      "metadata": {
        "id": "r1mOcdokUEeo"
      },
      "execution_count": null,
      "outputs": []
    },
    {
      "cell_type": "code",
      "source": [
        "data1 = outliersx(lista1,2)\n",
        "sns.displot(data1);\n",
        "plt.title('Mojado D6')"
      ],
      "metadata": {
        "colab": {
          "base_uri": "https://localhost:8080/",
          "height": 457
        },
        "id": "kpogad-g82lP",
        "outputId": "705eedf9-76cd-4e01-8a2e-d631e5012eca"
      },
      "execution_count": null,
      "outputs": [
        {
          "output_type": "stream",
          "name": "stdout",
          "text": [
            "Los outliers detectados son: [2.0933]\n",
            "La data sin outliers es: [2.0893, 2.0856, 2.0892, 2.0876, 2.0869, 2.0852, 2.0871, 2.0834, 2.0846, 2.0844, 2.088, 2.0867, 2.0882, 2.0858, 2.0845, 2.0862, 2.0883, 2.0876, 2.0865, 2.0836, 2.0884, 2.0828, 2.0852, 2.0837, 2.0863, 2.0871, 2.0862, 2.0861]\n"
          ]
        },
        {
          "output_type": "execute_result",
          "data": {
            "text/plain": [
              "Text(0.5, 1.0, 'Mojado D6')"
            ]
          },
          "metadata": {},
          "execution_count": 54
        },
        {
          "output_type": "display_data",
          "data": {
            "text/plain": [
              "<Figure size 360x360 with 1 Axes>"
            ],
            "image/png": "[encoded data removed]"
          },
          "metadata": {
            "needs_background": "light"
          }
        }
      ]
    },
    {
      "cell_type": "code",
      "source": [
        "data2 = outliersx(lista2,2.5)\n",
        "sns.displot(data2);\n",
        "plt.title('Seco D6')"
      ],
      "metadata": {
        "colab": {
          "base_uri": "https://localhost:8080/",
          "height": 457
        },
        "id": "GyQOQZdI9EUR",
        "outputId": "57aca305-1afc-4ec7-8ae9-08d9d3a0b73d"
      },
      "execution_count": null,
      "outputs": [
        {
          "output_type": "stream",
          "name": "stdout",
          "text": [
            "Los outliers detectados son: [2.0739]\n",
            "La data sin outliers es: [2.0801, 2.0793, 2.0774, 2.0784, 2.0773, 2.077, 2.0775, 2.0758, 2.0778, 2.0769, 2.0791, 2.077, 2.0787, 2.0774, 2.0771, 2.0794, 2.0783, 2.0794, 2.0778, 2.0772, 2.0761, 2.076, 2.0789, 2.0775, 2.0794, 2.0794, 2.0783, 2.0789]\n"
          ]
        },
        {
          "output_type": "execute_result",
          "data": {
            "text/plain": [
              "Text(0.5, 1.0, 'Seco D6')"
            ]
          },
          "metadata": {},
          "execution_count": 52
        },
        {
          "output_type": "display_data",
          "data": {
            "text/plain": [
              "<Figure size 360x360 with 1 Axes>"
            ],
            "image/png": "[encoded data removed]"
          },
          "metadata": {
            "needs_background": "light"
          }
        }
      ]
    },
    {
      "cell_type": "code",
      "source": [
        "lista = list(map(lambda x,y: x-y ,lista1,lista2))\n",
        "data = outliersx(lista,2)\n",
        "sns.displot(data);\n",
        "plt.title('Diferencia D6')"
      ],
      "metadata": {
        "colab": {
          "base_uri": "https://localhost:8080/",
          "height": 457
        },
        "id": "pT8xD9O5oEpk",
        "outputId": "1a6b5f4e-721d-436b-a76c-8d143f03b761"
      },
      "execution_count": null,
      "outputs": [
        {
          "output_type": "stream",
          "name": "stdout",
          "text": [
            "Los outliers detectados son: [0.015500000000000291]\n",
            "La data sin outliers es: [0.009200000000000319, 0.006299999999999972, 0.011800000000000033, 0.009200000000000319, 0.009599999999999831, 0.008199999999999985, 0.009599999999999831, 0.007600000000000051, 0.006800000000000139, 0.00749999999999984, 0.00890000000000013, 0.009700000000000042, 0.009500000000000064, 0.008399999999999963, 0.007399999999999629, 0.006799999999999695, 0.009999999999999787, 0.008199999999999985, 0.009300000000000086, 0.007500000000000284, 0.012399999999999967, 0.00890000000000013, 0.006299999999999972, 0.006199999999999761, 0.006899999999999906, 0.007699999999999818, 0.007899999999999796, 0.007200000000000095]\n"
          ]
        },
        {
          "output_type": "execute_result",
          "data": {
            "text/plain": [
              "Text(0.5, 1.0, 'Diferencia D6')"
            ]
          },
          "metadata": {},
          "execution_count": 47
        },
        {
          "output_type": "display_data",
          "data": {
            "text/plain": [
              "<Figure size 360x360 with 1 Axes>"
            ],
            "image/png": "[encoded data removed]"
          },
          "metadata": {
            "needs_background": "light"
          }
        }
      ]
    },
    {
      "cell_type": "markdown",
      "source": [
        "#Sin Disco"
      ],
      "metadata": {
        "id": "hUpJJLBqn_sN"
      }
    },
    {
      "cell_type": "code",
      "source": [
        "# datos del dispositivo sin disco mojado\n",
        "listaa = [2.079,2.079,2.0774,2.0746,2.0791,2.0787,2.0748,2.0767,2.0807,2.0775,2.0753,\n",
        "          2.0762,2.0787,2.0774,2.0793,2.0766]\n",
        "\n",
        "# datos del dispositivo sin disco seco\n",
        "listab = [2.0775,2.0739,2.0738,2.0729,2.0738,2.0742,2.0715,2.0728,2.0733,2.0716,2.0727,\n",
        "          2.0737,2.0730,2.0746,2.0734,2.0722]"
      ],
      "metadata": {
        "id": "ciBaBY0_UYIo"
      },
      "execution_count": null,
      "outputs": []
    },
    {
      "cell_type": "code",
      "source": [
        "data3 = outliersx(listaa,2)\n",
        "sns.displot(data3);\n",
        "plt.title('Sin Disco Mojado')"
      ],
      "metadata": {
        "colab": {
          "base_uri": "https://localhost:8080/",
          "height": 437
        },
        "id": "0Rd3M8Tj92HE",
        "outputId": "9630d1f7-913c-4f16-fe57-6a97bd0ca9f9"
      },
      "execution_count": null,
      "outputs": [
        {
          "output_type": "stream",
          "name": "stdout",
          "text": [
            "Los outliers detectados son: []\n",
            "La data sin outliers es: [2.079, 2.079, 2.0774, 2.0746, 2.0791, 2.0787, 2.0748, 2.0767, 2.0807, 2.0775, 2.0753, 2.0762, 2.0787, 2.0774, 2.0793, 2.0766]\n"
          ]
        },
        {
          "output_type": "execute_result",
          "data": {
            "text/plain": [
              "Text(0.5, 1.0, 'Sin Disco Mojado')"
            ]
          },
          "metadata": {},
          "execution_count": 45
        },
        {
          "output_type": "display_data",
          "data": {
            "text/plain": [
              "<Figure size 360x360 with 1 Axes>"
            ],
            "image/png": "[encoded data removed]"
          },
          "metadata": {
            "needs_background": "light"
          }
        }
      ]
    },
    {
      "cell_type": "code",
      "source": [
        "data4 = outliersx(listab,2)\n",
        "sns.displot(data4);\n",
        "plt.title('Sin Disco Seco')"
      ],
      "metadata": {
        "colab": {
          "base_uri": "https://localhost:8080/",
          "height": 437
        },
        "id": "_X18yZ4l-PRB",
        "outputId": "887a4d65-c573-4e0c-d901-b5e76a45c393"
      },
      "execution_count": null,
      "outputs": [
        {
          "output_type": "stream",
          "name": "stdout",
          "text": [
            "Los outliers detectados son: [2.0775]\n",
            "La data sin outliers es: [2.0739, 2.0738, 2.0729, 2.0738, 2.0742, 2.0715, 2.0728, 2.0733, 2.0716, 2.0727, 2.0737, 2.073, 2.0746, 2.0734, 2.0722]\n"
          ]
        },
        {
          "output_type": "execute_result",
          "data": {
            "text/plain": [
              "Text(0.5, 1.0, 'Sin Disco Seco')"
            ]
          },
          "metadata": {},
          "execution_count": 42
        },
        {
          "output_type": "display_data",
          "data": {
            "text/plain": [
              "<Figure size 360x360 with 1 Axes>"
            ],
            "image/png": "[encoded data removed]"
          },
          "metadata": {
            "needs_background": "light"
          }
        }
      ]
    },
    {
      "cell_type": "code",
      "source": [
        "listax = list(map(lambda x,y: x-y ,listaa,listab))\n",
        "datax = outliersx(listax,2)\n",
        "sns.displot(datax);\n",
        "plt.title('Diferencia Sin Disco')"
      ],
      "metadata": {
        "id": "ShVIeJcV-oC9",
        "colab": {
          "base_uri": "https://localhost:8080/",
          "height": 457
        },
        "outputId": "6e72e420-f02f-4ec2-dd07-4509f555af41"
      },
      "execution_count": null,
      "outputs": [
        {
          "output_type": "stream",
          "name": "stdout",
          "text": [
            "Los outliers detectados son: [0.007400000000000073]\n",
            "La data sin outliers es: [0.0015000000000000568, 0.0051000000000001044, 0.0036000000000000476, 0.0017000000000000348, 0.005300000000000082, 0.0045000000000001705, 0.0033000000000003027, 0.0039000000000002366, 0.005900000000000016, 0.0025999999999997137, 0.0024999999999999467, 0.005700000000000038, 0.0027999999999996916, 0.005900000000000016, 0.0043999999999999595]\n"
          ]
        },
        {
          "output_type": "execute_result",
          "data": {
            "text/plain": [
              "Text(0.5, 1.0, 'Diferencia Sin Disco')"
            ]
          },
          "metadata": {},
          "execution_count": 41
        },
        {
          "output_type": "display_data",
          "data": {
            "text/plain": [
              "<Figure size 360x360 with 1 Axes>"
            ],
            "image/png": "[encoded data removed]"
          },
          "metadata": {
            "needs_background": "light"
          }
        }
      ]
    },
    {
      "cell_type": "code",
      "source": [],
      "metadata": {
        "id": "Ky7FmJN-pXMg"
      },
      "execution_count": null,
      "outputs": []
    }
  ]
}