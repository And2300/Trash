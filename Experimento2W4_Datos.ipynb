{
  "cells": [
    {
      "cell_type": "markdown",
      "metadata": {
        "id": "view-in-github",
        "colab_type": "text"
      },
      "source": [
        "<a href=\"https://colab.research.google.com/github/And2300/Trash/blob/main/Experimento2W4_Datos.ipynb\" target=\"_parent\"><img src=\"https://colab.research.google.com/assets/colab-badge.svg\" alt=\"Open In Colab\"/></a>"
      ]
    },
    {
      "cell_type": "code",
      "execution_count": 1,
      "metadata": {
        "id": "Y2PwLumYpDDv"
      },
      "outputs": [],
      "source": [
        "import numpy as np\n",
        "import matplotlib.pyplot as plt\n",
        "import pandas as pd\n",
        "import seaborn as sns\n",
        "from scipy import stats"
      ]
    },
    {
      "cell_type": "markdown",
      "source": [
        "# Funciones"
      ],
      "metadata": {
        "id": "346O0nQ8My4c"
      }
    },
    {
      "cell_type": "code",
      "execution_count": 2,
      "metadata": {
        "id": "pHRTyQ5gpDDz"
      },
      "outputs": [],
      "source": [
        "def outliersx(lista,alpha):\n",
        "  data = np.array(lista)#np.random.normal(0, 1, 1000).round(4)\n",
        "\n",
        "  mean = np.mean(data)\n",
        "  std = np.std(data)\n",
        "\n",
        "  lower_bound = mean - alpha * std\n",
        "  upper_bound = mean + alpha * std\n",
        "\n",
        "  # Detectar outliers\n",
        "  outliers = [x for x in data if x < lower_bound or x > upper_bound]\n",
        "\n",
        "  # Data sin outliers\n",
        "  data_without_outliers = [x for x in data if lower_bound <= x <= upper_bound]\n",
        "\n",
        "  # Imprimir los outliers detectados y la data sin outliers\n",
        "  #print('Los outliers detectados son:', outliers)\n",
        "  #print('La data sin outliers es:', data_without_outliers)\n",
        "  return data_without_outliers, mean, std"
      ]
    },
    {
      "cell_type": "code",
      "source": [
        "def dif_lis(lista1,lista2):\n",
        "  dlis = list(map(lambda x,y: x-y ,lista1,lista2))\n",
        "  dmean = round(np.array(dlis).mean(),4)\n",
        "  dstd = round(np.array(dlis).std(),4)\n",
        "  return dlis, dmean , dstd"
      ],
      "metadata": {
        "id": "zR4VGAt2BTlu"
      },
      "execution_count": 3,
      "outputs": []
    },
    {
      "cell_type": "code",
      "source": [
        "def mean_std(listax):\n",
        "  dmean = round(np.array(listax).mean(),4)\n",
        "  dstd = round(np.array(listax).std(),4)\n",
        "  return dmean , dstd"
      ],
      "metadata": {
        "id": "rZGORyGaJ7jf"
      },
      "execution_count": 4,
      "outputs": []
    },
    {
      "cell_type": "code",
      "source": [
        "def med_std_lis(listas):\n",
        "    medias = []\n",
        "    desviaciones = []\n",
        "    for lista1, lista2 in listas:\n",
        "        _, media, desviacion = dif_lis(lista1, lista2)\n",
        "        medias.append(media)\n",
        "        desviaciones.append(desviacion)\n",
        "    return medias, desviaciones"
      ],
      "metadata": {
        "id": "IE1UT4ioMxDS"
      },
      "execution_count": 5,
      "outputs": []
    },
    {
      "cell_type": "code",
      "execution_count": 6,
      "metadata": {
        "id": "bpVIB5wWpDD0"
      },
      "outputs": [],
      "source": [
        "def plot_hist(lista1,lista2, alpha):\n",
        "    data1,_,_ = outliersx(lista1,2)\n",
        "    data2,_,_ = outliersx(lista2,2)\n",
        "    lista = list(map(lambda x,y: x-y ,lista1,lista2))\n",
        "    data, mean,std = outliersx(lista,2)\n",
        "    \n",
        "    #escala\n",
        "    mdis_teo = 0.00247 #g \n",
        "\n",
        "    #plot\n",
        "    plt.figure(figsize=(30,10))\n",
        "\n",
        "    plt.subplot(1,3,1)\n",
        "    plt.hist(data1, color='b', bins=6);\n",
        "    plt.title('Mojado', size=20)\n",
        "    plt.xticks(size=18, color='y')\n",
        "\n",
        "    plt.subplot(1,3,2)\n",
        "    plt.hist(data2, color='r', bins=6);\n",
        "    plt.title('Seco', size=20)\n",
        "    plt.xticks(size=18, color='y')\n",
        "\n",
        "    plt.subplot(1,3,3)\n",
        "    plt.hist(data, color='g', bins=6);\n",
        "    plt.title('Diferencia ' +  '\\n' +'mean: '+str(round(mean,4)) + ', std: ' + str(round(std,4)) + '\\n' \n",
        "              + '[' + str(round(min(lista)/mdis_teo,2)) + ' , ' + str(round(max(lista)/mdis_teo,2)) +']' + 'masa_teorica', size=20, color='k')\n",
        "    plt.xticks(size=18, color='k');\n",
        "    \n",
        "    plt.show()\n",
        "    #print('Diferencia ' +  '\\n' +'mean: '+str(round(mean,4)) + ', std: ' + str(round(std,4)) + '\\n' \n",
        "    #          + '[' + str(round(min(lista)/mdis_teo,2)) + ' , ' + str(round(max(lista)/mdis_teo,2)) +']' + 'masa_teorica')\n",
        "    return "
      ]
    },
    {
      "cell_type": "markdown",
      "source": [
        "# Acrílico nuevo nuevo plano , jeringa 1ml"
      ],
      "metadata": {
        "id": "sTtYo0pU6h1j"
      }
    },
    {
      "cell_type": "markdown",
      "source": [
        "## Sin disco"
      ],
      "metadata": {
        "id": "JpGPMTGG6wMV"
      }
    },
    {
      "cell_type": "code",
      "source": [
        "listasd1 = [2.1626,2.1637,2.1653,2.1642,2.1643,2.1636,2.1645,2.1637,2.1635,2.1626,\n",
        "            2.1629,2.1640,2.1636,2.1617,2.1643,2.1638,2.1639,2.1640,2.1630,2.1640]\n",
        "listasd2 = [2.1664,2.1666,2.1686,2.1687,2.1685,2.1666,2.1681,2.1674,2.1673,2.1672,\n",
        "            2.1694,2.1690,2.1708,2.1658,2.1677,2.1683,2.1670,2.1700,2.1692,2.1706]"
      ],
      "metadata": {
        "id": "t3KRxT4o62L2"
      },
      "execution_count": 7,
      "outputs": []
    },
    {
      "cell_type": "code",
      "source": [
        "round(np.array(listasd1).mean(),4)"
      ],
      "metadata": {
        "colab": {
          "base_uri": "https://localhost:8080/"
        },
        "id": "6YvNzrTdBwp8",
        "outputId": "8435c796-a308-4012-a77c-5452876e9e99"
      },
      "execution_count": 8,
      "outputs": [
        {
          "output_type": "execute_result",
          "data": {
            "text/plain": [
              "2.1637"
            ]
          },
          "metadata": {},
          "execution_count": 8
        }
      ]
    },
    {
      "cell_type": "code",
      "source": [
        "#plot_hist(listasd2,listasd1, alpha=2)"
      ],
      "metadata": {
        "id": "U0J07WvF62L3"
      },
      "execution_count": 9,
      "outputs": []
    },
    {
      "cell_type": "markdown",
      "source": [
        "## Con disco D6"
      ],
      "metadata": {
        "id": "y6RZ8uzk7nIY"
      }
    },
    {
      "cell_type": "code",
      "source": [
        "listad61 = [2.1638,2.1661,2.1650,2.1660,2.1653,2.1665,2.1647,2.1646,2.1652,2.1686]\n",
        "listad62 = [2.1746,2.1747,2.1757,2.1733,2.1748,2.1778,2.1762,2.1748,2.1764,2.1794]"
      ],
      "metadata": {
        "id": "51BZsRFA7qaC"
      },
      "execution_count": 10,
      "outputs": []
    },
    {
      "cell_type": "code",
      "source": [
        "#plot_hist(listad62,listad61, alpha=2)"
      ],
      "metadata": {
        "id": "h09pXQlq7qaD"
      },
      "execution_count": 11,
      "outputs": []
    },
    {
      "cell_type": "markdown",
      "source": [
        "## Con Disco D5"
      ],
      "metadata": {
        "id": "B8D_EKuab-yR"
      }
    },
    {
      "cell_type": "code",
      "source": [
        "listad51 = [2.1682,2.1665,2.1667,2.1657,2.1645,2.1644,2.1648,2.1647,2.1633,2.1649]\n",
        "listad52 = [2.1762,2.1759,2.1775,2.1765,2.1767,2.1761,2.1744,2.1736,2.1759,2.1742]"
      ],
      "metadata": {
        "id": "LpwE_nyOcCzm"
      },
      "execution_count": 12,
      "outputs": []
    },
    {
      "cell_type": "code",
      "source": [
        "#plot_hist(listad52,listad51, alpha=2)"
      ],
      "metadata": {
        "id": "mThDTIJdcCzo"
      },
      "execution_count": 13,
      "outputs": []
    },
    {
      "cell_type": "markdown",
      "source": [
        "## Con Disco D4"
      ],
      "metadata": {
        "id": "6iyYJGKlcDiC"
      }
    },
    {
      "cell_type": "code",
      "source": [
        "listad41 = [2.1630,2.1652,2.1654,2.1664,2.1644,2.1658,2.1666,2.1642,2.1652,2.1650]\n",
        "listad42 = [2.1716,2.1726,2.1708,2.1737,2.1751,2.1720,2.1736,2.1721,2.1739,2.1725]"
      ],
      "metadata": {
        "id": "HJ2S1fU_cHN-"
      },
      "execution_count": 14,
      "outputs": []
    },
    {
      "cell_type": "code",
      "source": [
        "#plot_hist(listad42,listad41, alpha=2)"
      ],
      "metadata": {
        "id": "CtvuS1o0cHN-"
      },
      "execution_count": 15,
      "outputs": []
    },
    {
      "cell_type": "markdown",
      "source": [
        "## Con Disco D3"
      ],
      "metadata": {
        "id": "8kfTNyxfsl6S"
      }
    },
    {
      "cell_type": "code",
      "source": [
        "listad31 = [2.1633,2.1666,2.1660,2.1663,2.1653,2.1667,2.1653,2.1654,2.1669,2.1679]\n",
        "listad32 = [2.1715,2.1743,2.1716,2.1732,2.1728,2.1743,2.1729,2.1723,2.1754,2.1732]"
      ],
      "metadata": {
        "id": "P8oYQ6aWspWo"
      },
      "execution_count": 16,
      "outputs": []
    },
    {
      "cell_type": "code",
      "source": [
        "#plot_hist(listad32,listad31, alpha=2)"
      ],
      "metadata": {
        "id": "YB3GIO8nspWq"
      },
      "execution_count": 17,
      "outputs": []
    },
    {
      "cell_type": "markdown",
      "source": [
        "## Con Disco D2"
      ],
      "metadata": {
        "id": "RaWnrzyqst96"
      }
    },
    {
      "cell_type": "code",
      "source": [
        "listad21 = [2.1656,2.1655,2.1648,2.1662,2.1635,2.1660,2.1647,2.1639,2.1670,2.1649]\n",
        "listad22 = [2.1708,2.1708,2.1707,2.1713,2.1695,2.1718,2.1712,2.1692,2.1727,2.1709]"
      ],
      "metadata": {
        "id": "uasUFG47st96"
      },
      "execution_count": 18,
      "outputs": []
    },
    {
      "cell_type": "code",
      "source": [
        "#plot_hist(listad22,listad21, alpha=2)"
      ],
      "metadata": {
        "id": "SrKnnw71st96"
      },
      "execution_count": 19,
      "outputs": []
    },
    {
      "cell_type": "markdown",
      "source": [
        "## Con Disco D1"
      ],
      "metadata": {
        "id": "OUd4a9JksyHn"
      }
    },
    {
      "cell_type": "code",
      "source": [
        "listad11 = [2.1658,2.1636,2.1632,2.1644,2.1639,2.1666,2.1652,2.1650,2.1670,2.1662]\n",
        "listad12 = [2.1726,2.1705,2.1696,2.1696,2.1693,2.1721,2.1706,2.1688,2.1723,2.1725]"
      ],
      "metadata": {
        "id": "Xca7_xaXsyHo"
      },
      "execution_count": 20,
      "outputs": []
    },
    {
      "cell_type": "code",
      "source": [
        "#plot_hist(listad12,listad11, alpha=2)"
      ],
      "metadata": {
        "id": "HXNPRsZosyHo"
      },
      "execution_count": 21,
      "outputs": []
    },
    {
      "cell_type": "markdown",
      "source": [
        "# Medidas discos"
      ],
      "metadata": {
        "id": "9a8DSgpVs5hV"
      }
    },
    {
      "cell_type": "code",
      "source": [
        "# en milímetros\n",
        "discoD1 = [2.584,2.715,2.588,2.700,2.682,2.590,2.601]\n",
        "discoD2 = [3.099,2.981,3.115,2.946,3.040,3.115]\n",
        "discoD3 = [3.673,3.487,3.612,3.516,3.591,3.521]\n",
        "discoD4 = [4.080,4.036,4.145,4.189,4.140,4.138]\n",
        "discoD5 = [4.541,4.447,4.609,4.714,4.579,4.540,4.255]\n",
        "discoD6 = [5.115,5.000,5.064,4.932,5.056]\n",
        "#discoD7 = []\n",
        "#discoD8 = []\n",
        "#discoD9 = []\n",
        "discos = [0,discoD1,discoD2,discoD3,discoD4,discoD5,discoD6]"
      ],
      "metadata": {
        "id": "5z-Cfs2Ys5uN"
      },
      "execution_count": 22,
      "outputs": []
    },
    {
      "cell_type": "code",
      "source": [
        "mediasDisco = []\n",
        "desviacionesDisco = []\n",
        "for disco in discos:\n",
        "    dmeand, dstdd = mean_std(disco)\n",
        "    mediasDisco.append(dmeand)\n",
        "    desviacionesDisco.append(dstdd)"
      ],
      "metadata": {
        "id": "6wZ5VI0YIpIJ"
      },
      "execution_count": 23,
      "outputs": []
    },
    {
      "cell_type": "code",
      "source": [
        "x_values = ['D{}'.format(i) for i in range(7)]\n",
        "\n",
        "fig, ax = plt.subplots()\n",
        "ax.errorbar(x_values, mediasDisco, yerr=desviacionesDisco, fmt='o', capsize=5)\n",
        "\n",
        "#ax.set_ylim(0, 2)\n",
        "ax.set_xlabel('Discos')\n",
        "ax.set_ylabel('Diámetro')\n",
        "ax.set_title('Discos vs Diámetro')\n",
        "\n",
        "plt.show()"
      ],
      "metadata": {
        "colab": {
          "base_uri": "https://localhost:8080/",
          "height": 295
        },
        "outputId": "b0ce8aaa-b011-47d1-c98e-0acf96b77498",
        "id": "Iq87xvFOKtOa"
      },
      "execution_count": 24,
      "outputs": [
        {
          "output_type": "display_data",
          "data": {
            "text/plain": [
              "<Figure size 432x288 with 1 Axes>"
            ],
            "image/png": "[encoded data removed]"
          },
          "metadata": {
            "needs_background": "light"
          }
        }
      ]
    },
    {
      "cell_type": "markdown",
      "source": [
        "# Gráfica volumen acumulado vs diámetro$^2$"
      ],
      "metadata": {
        "id": "npxxvs6Es2Sp"
      }
    },
    {
      "cell_type": "code",
      "source": [
        "def lmil(listaxx):\n",
        "  lista1000 = [ x*1000 for x in listaxx]\n",
        "  return lista1000"
      ],
      "metadata": {
        "id": "fIrMu3pVtbHB"
      },
      "execution_count": 25,
      "outputs": []
    },
    {
      "cell_type": "code",
      "source": [
        "listas = [\n",
        "    (lmil(listasd2), lmil(listasd1)),\n",
        "    (lmil(listad12), lmil(listad11)),\n",
        "    (lmil(listad22), lmil(listad21)),\n",
        "    (lmil(listad32), lmil(listad31)),\n",
        "    (lmil(listad42), lmil(listad41)),\n",
        "    (lmil(listad52), lmil(listad51)),\n",
        "    (lmil(listad62), lmil(listad61))\n",
        "]"
      ],
      "metadata": {
        "id": "ulWQSySZtjdM"
      },
      "execution_count": 26,
      "outputs": []
    },
    {
      "cell_type": "code",
      "source": [
        "#listas = [\n",
        "#    (listasd2, listasd1),\n",
        "#    (listad12, listad11),\n",
        "#    (listad22, listad21),\n",
        "#    (listad32, listad31),\n",
        "#    (listad42, listad41),\n",
        "#    (listad52, listad51),\n",
        "#    (listad62, listad61)\n",
        "#]"
      ],
      "metadata": {
        "id": "QRyBxETIE6bk"
      },
      "execution_count": 27,
      "outputs": []
    },
    {
      "cell_type": "code",
      "source": [
        "mediasvol, desviacionesvol = med_std_lis(listas)\n",
        "print(\"Medias:\", mediasvol)\n",
        "print(\"Desviaciones estándar:\", desviacionesvol)"
      ],
      "metadata": {
        "colab": {
          "base_uri": "https://localhost:8080/"
        },
        "id": "DJU9zpBxst97",
        "outputId": "20d06640-e2b3-4067-bba8-4de118b03994"
      },
      "execution_count": 28,
      "outputs": [
        {
          "output_type": "stream",
          "name": "stdout",
          "text": [
            "Medias: [4.5, 5.7, 5.68, 7.18, 7.67, 10.33, 10.19]\n",
            "Desviaciones estándar: [1.2884, 0.8798, 0.4238, 0.9847, 1.3842, 1.4457, 1.2778]\n"
          ]
        }
      ]
    },
    {
      "cell_type": "code",
      "source": [
        "fig, ax = plt.subplots()\n",
        "\n",
        "mediasDiscoCuad = [np.pi*((x/2)**2)*0.36 for x in mediasDisco]\n",
        "#mediasvolx = [ x*1000 for x in mediasvol]\n",
        "ax.errorbar(mediasDiscoCuad, mediasvol, yerr=desviacionesvol, fmt='*', capsize=5)\n",
        "sns.regplot(mediasDiscoCuad, mediasvol)\n",
        "\n",
        "slope, intercept, r_value, pv, se = stats.linregress(mediasDiscoCuad, mediasvol)\n",
        "sns.regplot(mediasDiscoCuad, mediasvol, line_kws={'label':'$y=%3.7s*x+%3.7s$'%(slope, intercept)})\n",
        "\n",
        "#ax.set_ylim(0, 2)\n",
        "ax.set_xlabel('Volumen Disco ($\\mu l^3$)')\n",
        "ax.set_ylabel('Volumen retenido ($\\mu l$)')\n",
        "ax.set_title('Volumen Disco vs Volumen retenido W4')\n",
        "ax.grid(color='r', linestyle='--', linewidth=0.3)\n",
        "\n",
        "plt.legend()\n",
        "plt.show()"
      ],
      "metadata": {
        "colab": {
          "base_uri": "https://localhost:8080/",
          "height": 356
        },
        "outputId": "dcdeaca5-1368-4b78-84e5-6829da1a1c8d",
        "id": "PYoBg8LzpMtm"
      },
      "execution_count": 29,
      "outputs": [
        {
          "output_type": "stream",
          "name": "stderr",
          "text": [
            "/usr/local/lib/python3.8/dist-packages/seaborn/_decorators.py:36: FutureWarning: Pass the following variables as keyword args: x, y. From version 0.12, the only valid positional argument will be `data`, and passing other arguments without an explicit keyword will result in an error or misinterpretation.\n",
            "  warnings.warn(\n"
          ]
        },
        {
          "output_type": "display_data",
          "data": {
            "text/plain": [
              "<Figure size 432x288 with 1 Axes>"
            ],
            "image/png": "[encoded data removed]"
          },
          "metadata": {
            "needs_background": "light"
          }
        }
      ]
    },
    {
      "cell_type": "code",
      "source": [],
      "metadata": {
        "id": "qNvNWRaepRUP"
      },
      "execution_count": 29,
      "outputs": []
    },
    {
      "cell_type": "code",
      "source": [
        "#datos whatman 1\n",
        "mediasDiscoW1 = [0.0, 2.6371, 3.0493, 3.5667, 4.1213, 4.5264, 5.0334, 6.0, 7.0]\n",
        "\n",
        "mediasvolW1 = [4.5, 5.41, 6.13, 5.83, 6.81, 8.6, 9.765, 12.71, 13.41]\n",
        "desviacionesvolW1 = [1.2884, 1.2597, 1.3668, 0.3407, 0.7854, 1.7106, 1.3241, 2.0584, 1.6386]"
      ],
      "metadata": {
        "id": "bq3QEBst0p3w"
      },
      "execution_count": 30,
      "outputs": []
    },
    {
      "cell_type": "code",
      "source": [
        "fig, ax = plt.subplots(figsize=(10,8))\n",
        "\n",
        "#w4\n",
        "mediasDiscoCuad = [np.pi*((x/2)**2)*0.36*0.69 for x in mediasDisco]\n",
        "ax.errorbar(mediasDiscoCuad, mediasvol, yerr=desviacionesvol, fmt='*', capsize=5)\n",
        "sns.regplot(mediasDiscoCuad, mediasvol)\n",
        "slope, intercept, r_value, pv, se = stats.linregress(mediasDiscoCuad, mediasvol)\n",
        "sns.regplot(mediasDiscoCuad, mediasvol, line_kws={'label':'W4: $y=%3.7s*x+%3.7s$'%(slope, intercept)})\n",
        "\n",
        "#w1\n",
        "mediasDiscoCuadW1 = [np.pi*((x/2)**2)*0.18*0.69 for x in mediasDiscoW1]\n",
        "ax.errorbar(mediasDiscoCuadW1, mediasvolW1, yerr=desviacionesvolW1, fmt='o', capsize=5)\n",
        "sns.regplot(mediasDiscoCuadW1, mediasvolW1)\n",
        "slope, intercept, r_value, pv, se = stats.linregress(mediasDiscoCuadW1, mediasvolW1)\n",
        "sns.regplot(mediasDiscoCuadW1, mediasvolW1, line_kws={'label':'W1: $y=%3.7s*x+%3.7s$'%(slope, intercept)})\n",
        "\n",
        "#ax.set_ylim(0, 2)\n",
        "ax.set_xlabel('Volumen Disco ($\\mu l^3$)')\n",
        "ax.set_ylabel('Volumen retenido ($\\mu l^3$)')\n",
        "ax.set_title('Volumen Disco vs Volumen retenido')\n",
        "ax.grid(color='k', linestyle='--', linewidth=0.4)\n",
        "\n",
        "plt.legend()\n",
        "plt.show()"
      ],
      "metadata": {
        "colab": {
          "base_uri": "https://localhost:8080/",
          "height": 519
        },
        "id": "LDh2ImPx0ZKC",
        "outputId": "13fc3f48-f503-4b92-84d8-18f2b9bbb2ee"
      },
      "execution_count": 38,
      "outputs": [
        {
          "output_type": "display_data",
          "data": {
            "text/plain": [
              "<Figure size 720x576 with 1 Axes>"
            ],
            "image/png": "[encoded data removed]"
          },
          "metadata": {
            "needs_background": "light"
          }
        }
      ]
    },
    {
      "cell_type": "code",
      "source": [],
      "metadata": {
        "id": "1Yr2xsGc274B"
      },
      "execution_count": null,
      "outputs": []
    }
  ],
  "metadata": {
    "kernelspec": {
      "display_name": "Python 3",
      "language": "python",
      "name": "python3"
    },
    "language_info": {
      "codemirror_mode": {
        "name": "ipython",
        "version": 3
      },
      "file_extension": ".py",
      "mimetype": "text/x-python",
      "name": "python",
      "nbconvert_exporter": "python",
      "pygments_lexer": "ipython3",
      "version": "3.8.5"
    },
    "colab": {
      "provenance": [],
      "include_colab_link": true
    }
  },
  "nbformat": 4,
  "nbformat_minor": 0
}